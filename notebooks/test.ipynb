{
 "cells": [
  {
   "cell_type": "code",
   "execution_count": 1,
   "metadata": {},
   "outputs": [],
   "source": [
    "from dataclasses import dataclass\n",
    "\n",
    "@dataclass\n",
    "class DataIngestionArtifact:\n",
    "    train_file_path:str \n",
    "    test_file_path:str"
   ]
  },
  {
   "cell_type": "code",
   "execution_count": 4,
   "metadata": {},
   "outputs": [],
   "source": [
    "train_file_path=\"artifacts\\train.csv\"\n",
    "test_file_path=\"artifacts\\test.csv\""
   ]
  },
  {
   "cell_type": "code",
   "execution_count": 6,
   "metadata": {},
   "outputs": [],
   "source": [
    "data_ingestion_artifact=DataIngestionArtifact(train_file_path,test_file_path)"
   ]
  },
  {
   "cell_type": "code",
   "execution_count": 8,
   "metadata": {},
   "outputs": [
    {
     "data": {
      "text/plain": [
       "{'train_file_path': 'artifacts\\train.csv',\n",
       " 'test_file_path': 'artifacts\\test.csv'}"
      ]
     },
     "execution_count": 8,
     "metadata": {},
     "output_type": "execute_result"
    }
   ],
   "source": [
    "data_ingestion_artifact.__dict__"
   ]
  },
  {
   "cell_type": "code",
   "execution_count": 34,
   "metadata": {},
   "outputs": [],
   "source": [
    "data_ingestion_artifact={'train_file_path': 'artifacts\\train.csv','test_file_path': 'artifacts\\test.csv'}"
   ]
  },
  {
   "cell_type": "code",
   "execution_count": 36,
   "metadata": {},
   "outputs": [],
   "source": [
    "data_ingestion_artifact=DataIngestionArtifact(**data_ingestion_artifact)"
   ]
  },
  {
   "cell_type": "code",
   "execution_count": 37,
   "metadata": {},
   "outputs": [
    {
     "data": {
      "text/plain": [
       "DataIngestionArtifact(train_file_path='artifacts\\train.csv', test_file_path='artifacts\\test.csv')"
      ]
     },
     "execution_count": 37,
     "metadata": {},
     "output_type": "execute_result"
    }
   ],
   "source": [
    "data_ingestion_artifact"
   ]
  },
  {
   "cell_type": "code",
   "execution_count": 38,
   "metadata": {},
   "outputs": [],
   "source": [
    "@dataclass\n",
    "class DataValidationArtifact:\n",
    "    report_file_path:str\n",
    "    train_file_path:str \n",
    "    test_file_path:str \n",
    "    status:bool"
   ]
  },
  {
   "cell_type": "code",
   "execution_count": null,
   "metadata": {},
   "outputs": [],
   "source": []
  },
  {
   "cell_type": "code",
   "execution_count": 3,
   "metadata": {},
   "outputs": [],
   "source": [
    "import pandas as pd"
   ]
  },
  {
   "cell_type": "code",
   "execution_count": 4,
   "metadata": {},
   "outputs": [],
   "source": [
    "train=pd.read_csv(r\"artifacts\\train.csv\")\n",
    "test=pd.read_csv(r\"artifacts\\test.csv\")"
   ]
  },
  {
   "cell_type": "code",
   "execution_count": 5,
   "metadata": {},
   "outputs": [],
   "source": [
    "import numpy as np\n",
    "train_arr=np.array(train)\n",
    "test_arr=np.array(test)"
   ]
  },
  {
   "cell_type": "code",
   "execution_count": 6,
   "metadata": {},
   "outputs": [
    {
     "data": {
      "text/plain": [
       "numpy.ndarray"
      ]
     },
     "execution_count": 6,
     "metadata": {},
     "output_type": "execute_result"
    }
   ],
   "source": [
    "type(train_arr)"
   ]
  },
  {
   "cell_type": "code",
   "execution_count": 7,
   "metadata": {},
   "outputs": [],
   "source": [
    "mydict=dict({\"train_arr\":train_arr,\"test_arr\":test_arr})"
   ]
  },
  {
   "cell_type": "code",
   "execution_count": 8,
   "metadata": {},
   "outputs": [
    {
     "data": {
      "text/plain": [
       "{'train_arr': array([[11504, 0.41, 'Ideal', ..., 4.8, 2.93, 1181],\n",
       "        [95284, 1.23, 'Very Good', ..., 7.01, 4.19, 7418],\n",
       "        [184777, 1.7, 'Premium', ..., 7.66, 4.74, 12755],\n",
       "        ...,\n",
       "        [131932, 1.22, 'Premium', ..., 6.74, 4.26, 7209],\n",
       "        [146867, 0.31, 'Very Good', ..., 4.4, 2.67, 816],\n",
       "        [121958, 0.31, 'Very Good', ..., 4.38, 2.7, 408]], dtype=object),\n",
       " 'test_arr': array([[14868, 0.5, 'Ideal', ..., 5.08, 3.14, 1355],\n",
       "        [165613, 2.0, 'Very Good', ..., 8.15, 4.89, 14691],\n",
       "        [96727, 0.27, 'Premium', ..., 4.16, 2.52, 844],\n",
       "        ...,\n",
       "        [17876, 0.41, 'Ideal', ..., 4.77, 2.95, 967],\n",
       "        [72938, 1.21, 'Premium', ..., 6.79, 4.18, 5656],\n",
       "        [2265, 1.01, 'Very Good', ..., 6.46, 4.02, 6759]], dtype=object)}"
      ]
     },
     "execution_count": 8,
     "metadata": {},
     "output_type": "execute_result"
    }
   ],
   "source": [
    "mydict"
   ]
  },
  {
   "cell_type": "code",
   "execution_count": 10,
   "metadata": {},
   "outputs": [
    {
     "ename": "TypeError",
     "evalue": "list indices must be integers or slices, not tuple",
     "output_type": "error",
     "traceback": [
      "\u001b[1;31m---------------------------------------------------------------------------\u001b[0m",
      "\u001b[1;31mTypeError\u001b[0m                                 Traceback (most recent call last)",
      "Cell \u001b[1;32mIn[10], line 1\u001b[0m\n\u001b[1;32m----> 1\u001b[0m mydict[\u001b[39m\"\u001b[39;49m\u001b[39mtrain_arr\u001b[39;49m\u001b[39m\"\u001b[39;49m]\u001b[39m.\u001b[39;49mtolist()[:,:\u001b[39m-\u001b[39;49m\u001b[39m1\u001b[39;49m]\n",
      "\u001b[1;31mTypeError\u001b[0m: list indices must be integers or slices, not tuple"
     ]
    }
   ],
   "source": [
    "mydict[\"train_arr\"].tolist()[:,:-1]"
   ]
  },
  {
   "cell_type": "code",
   "execution_count": 12,
   "metadata": {},
   "outputs": [
    {
     "data": {
      "text/plain": [
       "array([['11504', '0.41', 'Ideal', ..., '4.85', '4.8', '2.93'],\n",
       "       ['95284', '1.23', 'Very Good', ..., '6.91', '7.01', '4.19'],\n",
       "       ['184777', '1.7', 'Premium', ..., '7.61', '7.66', '4.74'],\n",
       "       ...,\n",
       "       ['131932', '1.22', 'Premium', ..., '6.82', '6.74', '4.26'],\n",
       "       ['146867', '0.31', 'Very Good', ..., '4.37', '4.4', '2.67'],\n",
       "       ['121958', '0.31', 'Very Good', ..., '4.34', '4.38', '2.7']],\n",
       "      dtype='<U32')"
      ]
     },
     "execution_count": 12,
     "metadata": {},
     "output_type": "execute_result"
    }
   ],
   "source": [
    "np.array(mydict[\"train_arr\"].tolist())[:,:-1]"
   ]
  },
  {
   "cell_type": "code",
   "execution_count": null,
   "metadata": {},
   "outputs": [],
   "source": []
  }
 ],
 "metadata": {
  "kernelspec": {
   "display_name": "Python 3",
   "language": "python",
   "name": "python3"
  },
  "language_info": {
   "codemirror_mode": {
    "name": "ipython",
    "version": 3
   },
   "file_extension": ".py",
   "mimetype": "text/x-python",
   "name": "python",
   "nbconvert_exporter": "python",
   "pygments_lexer": "ipython3",
   "version": "3.8.16"
  },
  "orig_nbformat": 4
 },
 "nbformat": 4,
 "nbformat_minor": 2
}
